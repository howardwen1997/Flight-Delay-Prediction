{
 "cells": [
  {
   "cell_type": "code",
   "execution_count": 1,
   "metadata": {},
   "outputs": [],
   "source": [
    "# import pandas as pd\n",
    "import pandas as pd\n",
    "import numpy as np"
   ]
  },
  {
   "cell_type": "code",
   "execution_count": 2,
   "metadata": {},
   "outputs": [],
   "source": [
    "# relevant columns\n",
    "columns = '''Year\n",
    "Month\n",
    "DayofMonth\n",
    "DayOfWeek\n",
    "FlightDate\n",
    "Reporting_Airline\n",
    "Origin\n",
    "Dest\n",
    "DepTime\n",
    "DepDelay\n",
    "DepDelayMinutes\n",
    "DepDel15\n",
    "DepTimeBlk\n",
    "ArrDelay\n",
    "ArrDelayMinutes\n",
    "ArrDel15\n",
    "ArrTimeBlk\n",
    "Cancelled\n",
    "Tail_Number\n",
    "ArrTime\n",
    "AirTime\n",
    "CarrierDelay\n",
    "WeatherDelay\n",
    "NASDelay\n",
    "SecurityDelay\n",
    "LateAircraftDelay\n",
    "CancellationCode\n",
    "'''\n",
    "\n",
    "features = columns.split()\n",
    "\n",
    "filtered_df = pd.DataFrame()\n",
    "\n",
    "# read in all data and save out SFO -> LAX\n",
    "\n",
    "# dtypes = {\n",
    "#     'DepTime' : int,\n",
    "#     'DepDel15': int,\n",
    "#     'ArrDel15': int,\n",
    "#     'Cancelled' : int\n",
    "# }\n",
    "\n",
    "# chunksize = 10**6\n",
    "# with pd.read_csv('data/airline.csv',\n",
    "#                     # usecols=features,\n",
    "#                     encoding='unicode_escape',\n",
    "#                     chunksize=chunksize) as reader:\n",
    "#     for chunk in reader:\n",
    "#         filter = (chunk['Origin'] == 'SFO') & (chunk['Dest'] == 'LAX') & (chunk['Year'] >= 2010)\n",
    "#         filtered_df = pd.concat([filtered_df, chunk[filter]])\n",
    "#         print('row {}/200000000'.format(chunk.iloc[0].name))\n",
    "\n",
    "# filtered_df.to_csv('data/airline_filtered.csv', encoding='utf-8', index=False)"
   ]
  },
  {
   "attachments": {},
   "cell_type": "markdown",
   "metadata": {},
   "source": [
    "get all flights with origin OR destination as lax or sfo:"
   ]
  },
  {
   "cell_type": "code",
   "execution_count": 3,
   "metadata": {},
   "outputs": [],
   "source": [
    "# filtered_df = pd.DataFrame()\n",
    "\n",
    "# chunksize = 10**6\n",
    "# with pd.read_csv('data/airline.csv',\n",
    "#                     usecols=features,\n",
    "#                     encoding='unicode_escape',\n",
    "#                     chunksize=chunksize) as reader:\n",
    "#     for chunk in reader:\n",
    "#         filter = ((chunk['Origin'] == 'SFO') | (chunk['Origin'] == 'LAX') | (chunk['Dest'] == 'SFO') | (chunk['Dest'] == 'LAX')) & (chunk['Year'] >= 2010)\n",
    "#         filtered_df = pd.concat([filtered_df, chunk[filter]])\n",
    "#         print('{:2f}% done'.format(chunk.iloc[0].name/200000000*100))\n",
    "\n",
    "# filtered_df.to_csv('data/airline_total_sfo_lax_data.csv', encoding='utf-8', index=False)  "
   ]
  },
  {
   "cell_type": "code",
   "execution_count": 4,
   "metadata": {},
   "outputs": [
    {
     "name": "stdout",
     "output_type": "stream",
     "text": [
      "(154511, 27) (7498736, 27)\n"
     ]
    }
   ],
   "source": [
    "df_main = pd.read_csv('data/airline_filtered.csv', usecols=features)\n",
    "df_all = pd.read_csv('data/airline_total_sfo_lax_data.csv')\n",
    "print(df_main.shape, df_all.shape)"
   ]
  },
  {
   "attachments": {},
   "cell_type": "markdown",
   "metadata": {},
   "source": [
    "Convert flight date to datetime:"
   ]
  },
  {
   "cell_type": "code",
   "execution_count": 5,
   "metadata": {},
   "outputs": [],
   "source": [
    "# drop missing vals\n",
    "df_main = df_main.dropna(subset=['DepTime', 'ArrTime', 'FlightDate'])\n",
    "df_main = df_main[ (df_main['DepTime'] < 2400) & (df_main['ArrTime'] < 2400) ]\n",
    "df_main['FlightDate'] = df_main['FlightDate'] + ' ' + df_main['DepTime'].astype(int).astype(str).str.zfill(4)\n",
    "df_main['FlightDate'] = pd.to_datetime(df_main['FlightDate'], format='%Y-%m-%d %H%M')\n",
    "\n",
    "df_all = df_all.dropna(subset=['DepTime', 'ArrTime', 'FlightDate'])\n",
    "df_all = df_all[ (df_all['DepTime'] < 2400) & (df_all['ArrTime'] < 2400) ]\n",
    "df_all['FlightDate'] = df_all['FlightDate'] + ' ' + df_all['DepTime'].astype(int).astype(str).str.zfill(4)\n",
    "df_all['FlightDate'] = pd.to_datetime(df_all['FlightDate'], format='%Y-%m-%d %H%M')\n",
    "\n",
    "# sort and reset index\n",
    "df_main = df_main.sort_values('FlightDate')\n",
    "df_main.reset_index(drop=True, inplace=True)\n",
    "df_all = df_all.sort_values('FlightDate')\n",
    "df_all.reset_index(drop=True, inplace=True)"
   ]
  },
  {
   "attachments": {},
   "cell_type": "markdown",
   "metadata": {},
   "source": [
    "Brute force approach: too slow"
   ]
  },
  {
   "cell_type": "code",
   "execution_count": 6,
   "metadata": {},
   "outputs": [],
   "source": [
    "# df_main['SFODepDelRate'] = 0.\n",
    "# df_main['LAXDepDelRate'] = 0.\n",
    "# df_main['SFOArrDelRate'] = 0.\n",
    "# df_main['LAXArrDelRate'] = 0.\n",
    "\n",
    "# min_idx = 0\n",
    "# window_size = 1000000000\n",
    "# for i in range(df_main.shape[0]):\n",
    "#     # filter by time\n",
    "#     hr_low = 6\n",
    "#     hr_high = 4\n",
    "#     delta = df_main['FlightDate'].iloc[i] - df_all['FlightDate'].iloc[min_idx:min_idx + window_size]\n",
    "#     mask = (delta.dt.total_seconds() > hr_high*3600) & (delta.dt.total_seconds() < hr_low*3600)\n",
    "            \n",
    "#     if mask.sum() != 0:\n",
    "        \n",
    "#         # first index that starts the relevant values to save for next time\n",
    "#         min_idx = mask[ mask == True].index[0]\n",
    "#         window_size = 400\n",
    "    \n",
    "#         df_main.at[i, 'SFODepDelRate'] = df_all.iloc[mask[mask == True].index].loc[df_all['Origin']=='SFO']['DepDel15'].mean()\n",
    "#         df_main.at[i, 'LAXDepDelRate'] = df_all.iloc[mask[mask == True].index].loc[df_all['Origin']=='LAX']['DepDel15'].mean()\n",
    "#         df_main.at[i, 'SFOArrDelRate'] = df_all.iloc[mask[mask == True].index].loc[df_all['Origin']=='SFO']['ArrDel15'].mean()\n",
    "#         df_main.at[i, 'LAXArrDelRate'] = df_all.iloc[mask[mask == True].index].loc[df_all['Origin']=='LAX']['ArrDel15'].mean()\n",
    "        \n",
    "#     else:\n",
    "#         # widen search window if previous found no values\n",
    "#         min_idx += 1\n",
    "#         window_size = 10000\n",
    "#         print('no vals:', i, min_idx, df_main.iloc[i]['FlightDate'])\n",
    "\n",
    "    \n",
    "#     # df_main.at[i, 'LAXDepDelRate'] = df_all[ mask & (df_all['Origin']=='LAX')]['DepDel15'].mean()\n",
    "#     # df_main.at[i, 'SFOArrDelRate'] = df_all[ mask & (df_all['Origin']=='SFO')]['ArrDel15'].mean()\n",
    "#     # df_main.at[i, 'LAXArrDelRate'] = df_all[ mask & (df_all['Origin']=='LAX')]['ArrDel15'].mean()\n",
    "    \n",
    "#     if i % 10 == 0:\n",
    "#         print('record', i)\n",
    "\n",
    "\n",
    "# Look as distribution of the times $n$ number of points before\n",
    "\n",
    "# start = 5000000\n",
    "# n = 400\n",
    "# m = np.random.randint(n+1, 900000, 1000)\n",
    "# d = []\n",
    "# for i in range(1000):\n",
    "#     t = (df_all['FlightDate'].iloc[m[i]] - df_all['FlightDate'].iloc[m[i]-n])\n",
    "#     t = t.total_seconds()/3600\n",
    "#     d.append(t)\n",
    "# plt.hist(d, bins=20)"
   ]
  },
  {
   "cell_type": "code",
   "execution_count": 7,
   "metadata": {},
   "outputs": [],
   "source": [
    "# columns to contain delay rates of previous flights\n",
    "rate_cols = ['SFODepDelRate', 'LAXDepDelRate', 'SFOArrDelRate', 'LAXArrDelRate']\n",
    "df_all[rate_cols] = 0.\n",
    "\n",
    "# shift back hr_before_dep hours to make end of window\n",
    "hr_before_dep = 6\n",
    "df_aux = df_all[['FlightDate', 'Origin', 'Dest', 'DepDel15', 'ArrDel15']].copy()\n",
    "df_aux['FlightDate'] += pd.Timedelta(hr_before_dep, unit='h')"
   ]
  },
  {
   "cell_type": "code",
   "execution_count": 8,
   "metadata": {},
   "outputs": [],
   "source": [
    "# calculate % delayed in timewindow of (-hr_before_depature - 2, -hr_before_departure)\n",
    "df_aux['SFODepDelRate'] = df_aux[df_aux['Origin'] == 'SFO'].rolling('2h', min_periods=1, on='FlightDate', center=False)['DepDel15'].mean()\n",
    "df_aux['LAXDepDelRate'] = df_aux[df_aux['Origin'] == 'LAX'].rolling('2h', min_periods=1, on='FlightDate', center=False)['DepDel15'].mean()\n",
    "df_aux['SFOArrDelRate'] = df_aux[df_aux['Dest'] == 'SFO'].rolling('2h', min_periods=1, on='FlightDate', center=False)['ArrDel15'].mean()\n",
    "df_aux['LAXArrDelRate'] = df_aux[df_aux['Dest'] == 'LAX'].rolling('2h', min_periods=1, on='FlightDate', center=False)['ArrDel15'].mean()"
   ]
  },
  {
   "cell_type": "code",
   "execution_count": 9,
   "metadata": {},
   "outputs": [],
   "source": [
    "# round times to nearest hour for merge\n",
    "df_aux['RoundFlightDate'] = df_aux['FlightDate'].dt.round('h')\n",
    "df_main['RoundFlightDate'] = df_main['FlightDate'].dt.round('h')"
   ]
  },
  {
   "cell_type": "code",
   "execution_count": 11,
   "metadata": {},
   "outputs": [],
   "source": [
    "# do merges\n",
    "\n",
    "df_main = df_main.merge(\n",
    "    df_aux[df_aux['Origin'] == 'SFO'][['RoundFlightDate', 'SFODepDelRate']].drop_duplicates(subset='RoundFlightDate'),\n",
    "    on='RoundFlightDate',\n",
    "    how='left'\n",
    ")\n",
    "\n",
    "df_main = df_main.merge(\n",
    "    df_aux[df_aux['Origin'] == 'LAX'][['RoundFlightDate', 'LAXDepDelRate']].drop_duplicates(subset='RoundFlightDate'),\n",
    "    on='RoundFlightDate',\n",
    "    how='left'\n",
    ")\n",
    "\n",
    "df_main = df_main.merge(\n",
    "    df_aux[df_aux['Dest'] == 'SFO'][['RoundFlightDate', 'SFOArrDelRate']].drop_duplicates(subset='RoundFlightDate'),\n",
    "    on='RoundFlightDate',\n",
    "    how='left'\n",
    ")\n",
    "\n",
    "df_main = df_main.merge(\n",
    "    df_aux[df_aux['Dest'] == 'LAX'][['RoundFlightDate', 'LAXArrDelRate']].drop_duplicates(subset='RoundFlightDate'),\n",
    "    on='RoundFlightDate',\n",
    "    how='left'\n",
    ")"
   ]
  },
  {
   "attachments": {},
   "cell_type": "markdown",
   "metadata": {},
   "source": [
    "About 15 - 20% of values of NA (pretty good)"
   ]
  },
  {
   "cell_type": "code",
   "execution_count": 16,
   "metadata": {},
   "outputs": [
    {
     "data": {
      "text/plain": [
       "FlightDate       0.000000\n",
       "SFODepDelRate    0.175233\n",
       "LAXDepDelRate    0.151843\n",
       "SFOArrDelRate    0.232904\n",
       "LAXArrDelRate    0.213298\n",
       "dtype: float64"
      ]
     },
     "execution_count": 16,
     "metadata": {},
     "output_type": "execute_result"
    }
   ],
   "source": [
    "df_main[['FlightDate'] + rate_cols].isna().mean()"
   ]
  },
  {
   "attachments": {},
   "cell_type": "markdown",
   "metadata": {},
   "source": [
    "Replaces NAN rates with 0"
   ]
  },
  {
   "cell_type": "code",
   "execution_count": 17,
   "metadata": {},
   "outputs": [],
   "source": [
    "df_main[rate_cols] = df_main[rate_cols].fillna(0.)"
   ]
  },
  {
   "attachments": {},
   "cell_type": "markdown",
   "metadata": {},
   "source": [
    "Save data:\n"
   ]
  },
  {
   "cell_type": "code",
   "execution_count": null,
   "metadata": {},
   "outputs": [],
   "source": [
    "df_main.to_csv('data/airlines_filtered_selected_with_weather_and_delayrates.csv', in)"
   ]
  },
  {
   "attachments": {},
   "cell_type": "markdown",
   "metadata": {},
   "source": [
    "## Sanity check\n",
    "\n",
    "Make sure that rates calculated by rolling window are similar to the manual calculation (they are)"
   ]
  },
  {
   "cell_type": "code",
   "execution_count": 23,
   "metadata": {},
   "outputs": [
    {
     "data": {
      "text/html": [
       "<div>\n",
       "<style scoped>\n",
       "    .dataframe tbody tr th:only-of-type {\n",
       "        vertical-align: middle;\n",
       "    }\n",
       "\n",
       "    .dataframe tbody tr th {\n",
       "        vertical-align: top;\n",
       "    }\n",
       "\n",
       "    .dataframe thead th {\n",
       "        text-align: right;\n",
       "    }\n",
       "</style>\n",
       "<table border=\"1\" class=\"dataframe\">\n",
       "  <thead>\n",
       "    <tr style=\"text-align: right;\">\n",
       "      <th></th>\n",
       "      <th>SFODepDelRate</th>\n",
       "      <th>LAXDepDelRate</th>\n",
       "      <th>SFOArrDelRate</th>\n",
       "      <th>LAXArrDelRate</th>\n",
       "    </tr>\n",
       "  </thead>\n",
       "  <tbody>\n",
       "    <tr>\n",
       "      <th>10000</th>\n",
       "      <td>0.132075</td>\n",
       "      <td>0.015873</td>\n",
       "      <td>0.057143</td>\n",
       "      <td>0.000000</td>\n",
       "    </tr>\n",
       "    <tr>\n",
       "      <th>10001</th>\n",
       "      <td>0.118644</td>\n",
       "      <td>0.040541</td>\n",
       "      <td>0.033333</td>\n",
       "      <td>0.000000</td>\n",
       "    </tr>\n",
       "    <tr>\n",
       "      <th>10002</th>\n",
       "      <td>0.118644</td>\n",
       "      <td>0.040541</td>\n",
       "      <td>0.033333</td>\n",
       "      <td>0.000000</td>\n",
       "    </tr>\n",
       "    <tr>\n",
       "      <th>10003</th>\n",
       "      <td>0.104167</td>\n",
       "      <td>0.054054</td>\n",
       "      <td>0.058824</td>\n",
       "      <td>0.055556</td>\n",
       "    </tr>\n",
       "    <tr>\n",
       "      <th>10004</th>\n",
       "      <td>0.166667</td>\n",
       "      <td>0.032787</td>\n",
       "      <td>0.162791</td>\n",
       "      <td>0.111111</td>\n",
       "    </tr>\n",
       "    <tr>\n",
       "      <th>10005</th>\n",
       "      <td>0.073171</td>\n",
       "      <td>0.057692</td>\n",
       "      <td>0.288889</td>\n",
       "      <td>0.161290</td>\n",
       "    </tr>\n",
       "    <tr>\n",
       "      <th>10006</th>\n",
       "      <td>0.406250</td>\n",
       "      <td>0.060606</td>\n",
       "      <td>0.000000</td>\n",
       "      <td>0.000000</td>\n",
       "    </tr>\n",
       "    <tr>\n",
       "      <th>10007</th>\n",
       "      <td>0.406250</td>\n",
       "      <td>0.060606</td>\n",
       "      <td>0.000000</td>\n",
       "      <td>0.000000</td>\n",
       "    </tr>\n",
       "    <tr>\n",
       "      <th>10008</th>\n",
       "      <td>0.000000</td>\n",
       "      <td>0.052632</td>\n",
       "      <td>0.000000</td>\n",
       "      <td>0.000000</td>\n",
       "    </tr>\n",
       "    <tr>\n",
       "      <th>10009</th>\n",
       "      <td>0.000000</td>\n",
       "      <td>0.052632</td>\n",
       "      <td>0.000000</td>\n",
       "      <td>0.000000</td>\n",
       "    </tr>\n",
       "  </tbody>\n",
       "</table>\n",
       "</div>"
      ],
      "text/plain": [
       "       SFODepDelRate  LAXDepDelRate  SFOArrDelRate  LAXArrDelRate\n",
       "10000       0.132075       0.015873       0.057143       0.000000\n",
       "10001       0.118644       0.040541       0.033333       0.000000\n",
       "10002       0.118644       0.040541       0.033333       0.000000\n",
       "10003       0.104167       0.054054       0.058824       0.055556\n",
       "10004       0.166667       0.032787       0.162791       0.111111\n",
       "10005       0.073171       0.057692       0.288889       0.161290\n",
       "10006       0.406250       0.060606       0.000000       0.000000\n",
       "10007       0.406250       0.060606       0.000000       0.000000\n",
       "10008       0.000000       0.052632       0.000000       0.000000\n",
       "10009       0.000000       0.052632       0.000000       0.000000"
      ]
     },
     "execution_count": 23,
     "metadata": {},
     "output_type": "execute_result"
    }
   ],
   "source": [
    "df_main[rate_cols].iloc[10000:10010]"
   ]
  },
  {
   "cell_type": "code",
   "execution_count": 24,
   "metadata": {},
   "outputs": [
    {
     "data": {
      "text/plain": [
       "0.11290322580645161"
      ]
     },
     "execution_count": 24,
     "metadata": {},
     "output_type": "execute_result"
    }
   ],
   "source": [
    "t = df_main['RoundFlightDate'].iloc[10004]\n",
    "df_all[ (df_all['FlightDate'] <= t - pd.Timedelta(6, 'h')) & \\\n",
    "    (df_all['FlightDate'] >= t-pd.Timedelta(8, 'h')) &\\\n",
    "    (df_all['Dest'] == 'LAX')]['ArrDel15'].mean()"
   ]
  },
  {
   "cell_type": "code",
   "execution_count": 25,
   "metadata": {},
   "outputs": [
    {
     "data": {
      "text/plain": [
       "(array([75492., 32868., 21859., 10022.,  4389.,  3046.,  1132.,   501.,\n",
       "          218.,   582.]),\n",
       " array([0. , 0.1, 0.2, 0.3, 0.4, 0.5, 0.6, 0.7, 0.8, 0.9, 1. ]),\n",
       " <BarContainer object of 10 artists>)"
      ]
     },
     "execution_count": 25,
     "metadata": {},
     "output_type": "execute_result"
    },
    {
     "data": {
      "image/png": "[encoded data removed]",
      "text/plain": [
       "<Figure size 640x480 with 1 Axes>"
      ]
     },
     "metadata": {},
     "output_type": "display_data"
    }
   ],
   "source": [
    "import matplotlib.pyplot as plt\n",
    "plt.hist(df_main['LAXDepDelRate'])"
   ]
  }
 ],
 "metadata": {
  "kernelspec": {
   "display_name": "flights",
   "language": "python",
   "name": "python3"
  },
  "language_info": {
   "codemirror_mode": {
    "name": "ipython",
    "version": 3
   },
   "file_extension": ".py",
   "mimetype": "text/x-python",
   "name": "python",
   "nbconvert_exporter": "python",
   "pygments_lexer": "ipython3",
   "version": "3.10.6"
  },
  "orig_nbformat": 4
 },
 "nbformat": 4,
 "nbformat_minor": 2
}
