{
 "cells": [
  {
   "cell_type": "code",
   "execution_count": 1,
   "metadata": {},
   "outputs": [],
   "source": [
    "import pandas as pd"
   ]
  },
  {
   "cell_type": "code",
   "execution_count": 2,
   "metadata": {},
   "outputs": [],
   "source": [
    "# relevant columns\n",
    "columns = '''Year\n",
    "Month\n",
    "DayofMonth\n",
    "DayOfWeek\n",
    "FlightDate\n",
    "Reporting_Airline\n",
    "Origin\n",
    "Dest\n",
    "DepTime\n",
    "DepDelay\n",
    "DepDelayMinutes\n",
    "DepDel15\n",
    "DepTimeBlk\n",
    "ArrDelay\n",
    "ArrDelayMinutes\n",
    "ArrDel15\n",
    "ArrTimeBlk\n",
    "Cancelled\n",
    "Tail_Number\n",
    "ArrTime\n",
    "AirTime\n",
    "CarrierDelay\n",
    "WeatherDelay\n",
    "NASDelay\n",
    "SecurityDelay\n",
    "LateAircraftDelay\n",
    "CancellationCode\n",
    "'''\n",
    "\n",
    "features = columns.split()\n",
    "\n",
    "filtered_df = pd.DataFrame()\n",
    "\n",
    "dtypes = {\n",
    "    'DepTime' : int,\n",
    "    'DepDel15': int,\n",
    "    'ArrDel15': int,\n",
    "    'Cancelled' : int\n",
    "}\n",
    "\n",
    "chunksize = 10**6\n",
    "with pd.read_csv('data/airline.csv',\n",
    "                    # usecols=features,\n",
    "                    encoding='unicode_escape',\n",
    "                    chunksize=chunksize) as reader:\n",
    "    for chunk in reader:\n",
    "        filter = (chunk['Origin'] == 'SFO') & (chunk['Dest'] == 'LAX') & (chunk['Year'] >= 2010)\n",
    "        filtered_df = pd.concat([filtered_df, chunk[filter]])\n",
    "        print('row {}/200000000'.format(chunk.iloc[0].name))\n",
    "\n",
    "filtered_df.to_csv('data/airline_filtered.csv', encoding='utf-8', index=False)            "
   ]
  }
 ],
 "metadata": {
  "kernelspec": {
   "display_name": "flights",
   "language": "python",
   "name": "python3"
  },
  "language_info": {
   "codemirror_mode": {
    "name": "ipython",
    "version": 3
   },
   "file_extension": ".py",
   "mimetype": "text/x-python",
   "name": "python",
   "nbconvert_exporter": "python",
   "pygments_lexer": "ipython3",
   "version": "3.10.6"
  },
  "orig_nbformat": 4
 },
 "nbformat": 4,
 "nbformat_minor": 2
}
