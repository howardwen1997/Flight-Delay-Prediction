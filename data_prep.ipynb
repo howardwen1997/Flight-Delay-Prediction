{
 "cells": [
  {
   "cell_type": "code",
   "execution_count": 9,
   "metadata": {},
   "outputs": [],
   "source": [
    "# Import Meteostat library and dependencies\n",
    "from datetime import datetime\n",
    "import matplotlib.pyplot as plt\n",
    "from meteostat import Point, Daily\n",
    "\n",
    "# Set time period\n",
    "start = datetime(2010, 1, 1)\n",
    "end = datetime(2023, 12, 31)\n",
    "\n",
    "# Get daily data for 2018\n",
    "lax = Point(33.9416, -118.4085)\n",
    "lax_data = Daily(lax, start, end)\n",
    "lax_data = lax_data.fetch()\n",
    "\n",
    "sfo = Point( 37.619, -122.375)\n",
    "sfo_data = Daily(sfo, start, end)\n",
    "sfo_data = sfo_data.fetch()\n",
    "\n",
    "for column in sfo_data.columns:\n",
    "    sfo_data = sfo_data.rename(columns={column : 'sfo_' + column})\n",
    "    lax_data = lax_data.rename(columns={column : 'lax_' + column})\n",
    "    \n",
    "data = sfo_data.merge(lax_data, on='time')\n",
    "\n",
    "# Plot line chart including average, minimum and maximum temperature\n",
    "# lax_data.plot(y=['tavg', 'tmin', 'tmax'])\n",
    "# plt.show()"
   ]
  },
  {
   "cell_type": "code",
   "execution_count": 10,
   "metadata": {},
   "outputs": [],
   "source": [
    "import pandas as pd\n",
    "df = pd.read_csv(\"data/airlines_filtered_select_features.csv\")"
   ]
  },
  {
   "cell_type": "code",
   "execution_count": 11,
   "metadata": {},
   "outputs": [],
   "source": [
    "df.FlightDate = pd.to_datetime(df.FlightDate)"
   ]
  },
  {
   "cell_type": "code",
   "execution_count": 12,
   "metadata": {},
   "outputs": [],
   "source": [
    "df.set_index('FlightDate', inplace=True)"
   ]
  },
  {
   "cell_type": "code",
   "execution_count": 13,
   "metadata": {},
   "outputs": [],
   "source": [
    "merged = df.merge(data, left_index=True, right_index=True, how='left')"
   ]
  },
  {
   "cell_type": "code",
   "execution_count": 14,
   "metadata": {},
   "outputs": [],
   "source": [
    "merged.to_csv('data/airlines_filtered_selected_with_weather.csv')"
   ]
  }
 ],
 "metadata": {
  "kernelspec": {
   "display_name": "py39",
   "language": "python",
   "name": "python3"
  },
  "language_info": {
   "codemirror_mode": {
    "name": "ipython",
    "version": 3
   },
   "file_extension": ".py",
   "mimetype": "text/x-python",
   "name": "python",
   "nbconvert_exporter": "python",
   "pygments_lexer": "ipython3",
   "version": "3.10.6"
  },
  "orig_nbformat": 4
 },
 "nbformat": 4,
 "nbformat_minor": 2
}
